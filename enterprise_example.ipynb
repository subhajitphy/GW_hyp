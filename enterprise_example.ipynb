{
 "cells": [
  {
   "cell_type": "code",
   "execution_count": 1,
   "metadata": {},
   "outputs": [
    {
     "name": "stderr",
     "output_type": "stream",
     "text": [
      "WARNING: AstropyDeprecationWarning: The private astropy._erfa module has been made into its own package, pyerfa, which is a dependency of astropy and can be imported directly using \"import erfa\" [astropy._erfa]\n"
     ]
    }
   ],
   "source": [
    "from gw_waveform_res import hyp_pta_res\n",
    "from enterprise.pulsar import Pulsar\n",
    "\n",
    "import enterprise\n",
    "import numpy as np\n",
    "import matplotlib.pyplot as plt"
   ]
  },
  {
   "cell_type": "code",
   "execution_count": 2,
   "metadata": {},
   "outputs": [],
   "source": [
    "datadir = f\"{enterprise.__path__[0]}/datafiles/mdc_open1\"\n",
    "parfile = f\"{datadir}/J0030+0451.par\"\n",
    "timfile = f\"{datadir}/J0030+0451.tim\""
   ]
  },
  {
   "cell_type": "code",
   "execution_count": 3,
   "metadata": {},
   "outputs": [
    {
     "name": "stdout",
     "output_type": "stream",
     "text": [
      "[tempo2Util.C:396] Warning: [TIM1] Please place MODE flags in the parameter file \n"
     ]
    }
   ],
   "source": [
    "psr = Pulsar(parfile, timfile)"
   ]
  },
  {
   "cell_type": "code",
   "execution_count": 4,
   "metadata": {},
   "outputs": [],
   "source": [
    "def hms_to_rad(hh, mm, ss):\n",
    "    sgn = np.sign(hh)\n",
    "    return sgn * (sgn * hh + mm / 60 + ss / 3600) * np.pi / 12\n",
    "\n",
    "\n",
    "def dms_to_rad(dd, mm, ss):\n",
    "    sgn = np.sign(dd)\n",
    "    return sgn * (sgn * dd + mm / 60 + ss / 3600) * np.pi / 180"
   ]
  },
  {
   "cell_type": "code",
   "execution_count": 5,
   "metadata": {},
   "outputs": [],
   "source": [
    "M=2e10 \n",
    "q=1\n",
    "et0=1.1\n",
    "b=40\n",
    "ti=-5\n",
    "tf=5\n",
    "t_step=1000\n",
    "inc=np.pi/3\n",
    "distance=5\n",
    "order=3"
   ]
  },
  {
   "cell_type": "code",
   "execution_count": 6,
   "metadata": {},
   "outputs": [],
   "source": [
    "RA_GW = hms_to_rad(4, 0, 0)\n",
    "DEC_GW = dms_to_rad(-45, 0, 0)\n",
    "\n",
    "z = 0.1"
   ]
  },
  {
   "cell_type": "code",
   "execution_count": 7,
   "metadata": {},
   "outputs": [],
   "source": [
    "tref = (max(psr.toas)+min(psr.toas))/2"
   ]
  },
  {
   "cell_type": "code",
   "execution_count": 8,
   "metadata": {},
   "outputs": [],
   "source": [
    "hyp_gw = hyp_pta_res(\n",
    "    cos_gwtheta=np.sin(DEC_GW),\n",
    "    gwphi=RA_GW,\n",
    "    psi=0,\n",
    "    cos_inc=np.cos(inc),\n",
    "    log10_M=np.log10(M),\n",
    "    q=q,\n",
    "    b=b,\n",
    "    e0=et0,\n",
    "    tref=tref,\n",
    "    log10_z=np.log10(z)\n",
    ")\n",
    "\n",
    "hyp_gw_fn = hyp_gw(name=\"hyp_gw\", psr=psr)\n",
    "\n",
    "res = hyp_gw_fn()"
   ]
  },
  {
   "cell_type": "code",
   "execution_count": 10,
   "metadata": {},
   "outputs": [
    {
     "data": {
      "text/plain": [
       "<matplotlib.collections.PathCollection at 0x7f4683153c10>"
      ]
     },
     "execution_count": 10,
     "metadata": {},
     "output_type": "execute_result"
    },
    {
     "data": {
      "image/png": "[encoded data removed]",
      "text/plain": [
       "<Figure size 432x288 with 1 Axes>"
      ]
     },
     "metadata": {
      "needs_background": "light"
     },
     "output_type": "display_data"
    }
   ],
   "source": [
    "toas = psr.toas / (365.25*24*3600)\n",
    "plt.scatter(toas, res, marker=\"+\")"
   ]
  },
  {
   "cell_type": "code",
   "execution_count": null,
   "metadata": {},
   "outputs": [],
   "source": []
  }
 ],
 "metadata": {
  "kernelspec": {
   "display_name": "Python 3.9.13 ('base')",
   "language": "python",
   "name": "python3"
  },
  "language_info": {
   "codemirror_mode": {
    "name": "ipython",
    "version": 3
   },
   "file_extension": ".py",
   "mimetype": "text/x-python",
   "name": "python",
   "nbconvert_exporter": "python",
   "pygments_lexer": "ipython3",
   "version": "3.9.13"
  },
  "orig_nbformat": 4,
  "vscode": {
   "interpreter": {
    "hash": "6853fbe79b3806b2a88da38a5d540867791e7c9a1b1062ffe332f2dd7f9e12a0"
   }
  }
 },
 "nbformat": 4,
 "nbformat_minor": 2
}
